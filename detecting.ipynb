{
 "cells": [
  {
   "cell_type": "code",
   "execution_count": 1,
   "id": "c051ab7f",
   "metadata": {},
   "outputs": [],
   "source": [
    "from PIL import Image\n",
    "import cv2\n",
    "import torch\n",
    "import os\n",
    "from matplotlib import pyplot as plt"
   ]
  },
  {
   "cell_type": "code",
   "execution_count": 2,
   "id": "c848c7b8",
   "metadata": {},
   "outputs": [],
   "source": [
    "torch.cuda.is_available = lambda : True\n",
    "device = torch.device('cuda' if torch.cuda.is_available() else 'cpu')"
   ]
  },
  {
   "cell_type": "code",
   "execution_count": 3,
   "id": "1a82bfd9",
   "metadata": {},
   "outputs": [
    {
     "name": "stderr",
     "output_type": "stream",
     "text": [
      "Downloading: \"https://github.com/ultralytics/yolov5/zipball/master\" to C:\\Users\\dumbw/.cache\\torch\\hub\\master.zip\n",
      "YOLOv5  2023-4-22 Python-3.10.8 torch-1.13.1 CUDA:0 (NVIDIA GeForce GTX 1650, 4096MiB)\n",
      "\n"
     ]
    },
    {
     "name": "stdout",
     "output_type": "stream",
     "text": [
      "\u001b[31m\u001b[1mrequirements:\u001b[0m C:\\Users\\dumbw\\.cache\\torch\\hub\\requirements.txt not found, check failed.\n"
     ]
    },
    {
     "name": "stderr",
     "output_type": "stream",
     "text": [
      "Fusing layers... \n",
      "Model summary: 157 layers, 7037095 parameters, 0 gradients, 15.8 GFLOPs\n",
      "Adding AutoShape... \n"
     ]
    }
   ],
   "source": [
    "#Load trained-model .pt file\n",
    "model = torch.hub.load('ultralytics/yolov5', 'custom', path='yolov5/models/best.pt', force_reload=True)"
   ]
  },
  {
   "cell_type": "code",
   "execution_count": 4,
   "id": "b7f434ad",
   "metadata": {},
   "outputs": [],
   "source": [
    "image_path = 'image_test/g.jpg' #Path to image \n",
    "saved_path = 'static' #Path to saved image"
   ]
  },
  {
   "cell_type": "code",
   "execution_count": 5,
   "id": "32508a01",
   "metadata": {},
   "outputs": [],
   "source": [
    "def detect_model(image, image_name):\n",
    "    results = model(image, size=640)\n",
    "    results.render()\n",
    "    Image.fromarray(results.ims[0]).save(os.path.join(saved_path, image_name))\n",
    "    bboxes = results.xyxy[0].tolist()\n",
    "    return sorted(bboxes, key=lambda x: x[0])"
   ]
  },
  {
   "cell_type": "code",
   "execution_count": 6,
   "id": "6e82f455",
   "metadata": {},
   "outputs": [],
   "source": [
    "#Trich xuat cac so tu bboxes du doan duoc\n",
    "def extract_number_from_bboxes(detection):\n",
    "    numb_str = ''\n",
    "    for bbox in detection:\n",
    "         numb_str += str(int(bbox[-1]))\n",
    "    return numb_str"
   ]
  },
  {
   "cell_type": "code",
   "execution_count": 7,
   "id": "edba52e8",
   "metadata": {},
   "outputs": [],
   "source": [
    "def draw_number_on_image(numb_str, image, org = (50, 50), font = cv2.FONT_HERSHEY_SIMPLEX, fontScale = 1, color = (255, 0, 0), thickness = 1):\n",
    "    return cv2.putText(image, numb_str, org, font, fontScale, color, thickness, cv2.LINE_AA)"
   ]
  },
  {
   "cell_type": "code",
   "execution_count": 8,
   "id": "694682eb",
   "metadata": {},
   "outputs": [],
   "source": [
    "def detect(image_path):\n",
    "    image_name = image_path.split('/')[-1]\n",
    "    image = Image.open(image_path)\n",
    "    detection = detect_model(image, image_name)\n",
    "    card_number = extract_number_from_bboxes(detection)\n",
    "    result_image = cv2.resize(cv2.imread(os.path.join(saved_path, image_name)), (640, 416))\n",
    "    drawed = draw_number_on_image(card_number, result_image)\n",
    "    cv2.imshow('image', result_image)\n",
    "    cv2.waitKey(0)"
   ]
  },
  {
   "cell_type": "code",
   "execution_count": 9,
   "id": "c7d65bcb",
   "metadata": {},
   "outputs": [],
   "source": [
    "detect(image_path)"
   ]
  },
  {
   "cell_type": "code",
   "execution_count": null,
   "id": "7ac844ec",
   "metadata": {},
   "outputs": [],
   "source": []
  }
 ],
 "metadata": {
  "kernelspec": {
   "display_name": "Python (torch)",
   "language": "python",
   "name": "torch"
  },
  "language_info": {
   "codemirror_mode": {
    "name": "ipython",
    "version": 3
   },
   "file_extension": ".py",
   "mimetype": "text/x-python",
   "name": "python",
   "nbconvert_exporter": "python",
   "pygments_lexer": "ipython3",
   "version": "3.10.8"
  }
 },
 "nbformat": 4,
 "nbformat_minor": 5
}
